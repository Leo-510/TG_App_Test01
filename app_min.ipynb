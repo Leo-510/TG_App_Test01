import ipywidgets as widgets
from IPython.display import display
display(widgets.HTML("<h3>Voilà 起動テスト</h3>"))
display(widgets.Dropdown(options=['A','B','C'], description='Choice'))
