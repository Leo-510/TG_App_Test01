import pandas as pd
import numpy as np
import matplotlib.pyplot as plt
import ipywidgets as widgets
from IPython.display import display, clear_output

df_x_unique_labels_selected = pd.read_csv("df_x_unique_labels_selected.csv")

# ===== 前提：df_x_unique_labels_selected が既にメモリにある想定 =====
df_all = df_x_unique_labels_selected.copy()
df_all["cluster"] = df_all["cluster"].astype(str)

# 描画対象列（Fitness, cluster は除外）
VALUE_COLS = [c for c in df_all.columns if c not in ["Fitness", "cluster"]]

# Fitness 全体のレンジ
FIT_MIN_GLOBAL = float(df_all["Fitness"].astype(float).min())
FIT_MAX_GLOBAL = float(df_all["Fitness"].astype(float).max())

# ===== UI =====
# 1) cluster: 「(すべて)」を追加
cluster_options = ["(すべて)"] + sorted(df_all["cluster"].unique().tolist())
cluster_dd = widgets.Dropdown(
    options=cluster_options,
    value=cluster_options[0],
    description="cluster",
)

# Fitness 範囲
fitness_rs = widgets.FloatRangeSlider(
    value=(max(8_000_000.0, FIT_MIN_GLOBAL), min(10_100_000.0, FIT_MAX_GLOBAL)),
    min=FIT_MIN_GLOBAL, max=FIT_MAX_GLOBAL, step=100_000.0,
    description='Fitness範囲',
    readout_format=',.0f', continuous_update=False
)

# 2) 絞り込み設定の有無
filter_enable_tb = widgets.ToggleButtons(
    options=['絞り込みしない', '絞り込みする'],
    value='絞り込みしない',
    description='フィルタ'
)

# 絞り込み（列と値）
filter_col_dd = widgets.Dropdown(
    options=VALUE_COLS, value=VALUE_COLS[0], description="絞込列"
)
filter_vals_ms = widgets.SelectMultiple(
    options=[], value=[], description="絞込値", rows=6
)
include_empty_ck = widgets.Checkbox(
    value=False, description="欠損(NaN)も含める"
)

# 描画モード
plot_mode_tb = widgets.ToggleButtons(
    options=['全列', '列を選ぶ'], value='全列', description='表示'
)
plot_col_dd = widgets.Dropdown(
    options=VALUE_COLS, value=VALUE_COLS[0], description="描画列"
)
show_quartiles_ck = widgets.Checkbox(value=False, description="Q1/Q3も表示")
draw_btn = widgets.Button(description="描画", button_style='')

# 出力領域
out = widgets.Output()

# ===== ヘルパ =====
def is_numeric_series(s: pd.Series) -> bool:
    try:
        pd.to_numeric(s.dropna().astype(str))
        return True
    except Exception:
        return False

def to_numeric_safe(series: pd.Series) -> pd.Series:
    return pd.to_numeric(series.astype(str), errors='coerce')

def get_base_df(selected_cluster: str) -> pd.DataFrame:
    # 「(すべて)」なら全件、それ以外は該当クラスタ
    if selected_cluster == "(すべて)":
        return df_all.copy()
    return df_all[df_all["cluster"] == selected_cluster].copy()

def refresh_filter_values(*_):
    """cluster/Fitness範囲/絞込列の変更時に「絞込値」候補を更新"""
    if filter_enable_tb.value == '絞り込みしない':
        # 使わないモードでは更新不要
        filter_vals_ms.options = []
        filter_vals_ms.value = ()
        return

    dfc = get_base_df(cluster_dd.value)
    fit_lo, fit_hi = fitness_rs.value
    dfc = dfc[(dfc["Fitness"].astype(float) >= fit_lo) & (dfc["Fitness"].astype(float) < fit_hi)]

    col = filter_col_dd.value
    ser = dfc[col]

    if is_numeric_series(ser):
        opts = sorted(pd.unique(to_numeric_safe(ser).dropna()))
        filter_vals_ms.options = opts
        filter_vals_ms.value = tuple(opts[:1]) if opts else ()
    else:
        opts = sorted(pd.unique(ser.fillna("NaN").astype(str)))
        filter_vals_ms.options = opts
        filter_vals_ms.value = tuple(opts[:1]) if opts else ()

# 初期化
refresh_filter_values()

def on_filter_col_change(change):
    refresh_filter_values()
filter_col_dd.observe(on_filter_col_change, names='value')
cluster_dd.observe(refresh_filter_values, names='value')
fitness_rs.observe(refresh_filter_values, names='value')

def on_plot_mode_change(change):
    plot_col_dd.layout.display = 'none' if change['new'] == '全列' else ''
on_plot_mode_change({'new': plot_mode_tb.value})
plot_mode_tb.observe(on_plot_mode_change, names='value')

def on_filter_enable_change(change):
    # 絞り込みUIの表示/非表示
    show = (change['new'] == '絞り込みする')
    filter_col_dd.layout.display = '' if show else 'none'
    filter_vals_ms.layout.display = '' if show else 'none'
    include_empty_ck.layout.display = '' if show else 'none'
    refresh_filter_values()
on_filter_enable_change({'new': filter_enable_tb.value})
filter_enable_tb.observe(on_filter_enable_change, names='value')

# ===== 描画ロジック =====
def compute_thresholds(fit_lo: float, fit_hi: float):
    """右→左（降順）に進むx軸：上限=fit_hi から 下限=fit_lo へ 100,000刻み"""
    fit_lo_i = int(np.floor(fit_lo / 100_000.0) * 100_000)
    fit_hi_i = int(np.ceil(fit_hi / 100_000.0) * 100_000)
    if fit_hi_i <= fit_lo_i + 100_000:
        fit_hi_i = fit_lo_i + 200_000  # 幅がほぼゼロのときの安全策
    thresholds = list(range(fit_hi_i, fit_lo_i, -100_000))
    return thresholds

def apply_filter(dfc: pd.DataFrame) -> pd.DataFrame:
    """Fitness範囲（常に適用）＆ 絞り込み列/値（任意）"""
    fit_lo, fit_hi = fitness_rs.value
    dfc = dfc[(dfc["Fitness"].astype(float) >= fit_lo) & (dfc["Fitness"].astype(float) < fit_hi)]

    if filter_enable_tb.value == '絞り込みしない':
        return dfc  # 追加の列・値フィルタは行わない

    # 以下、「絞り込みする」モードの場合のみ
    col = filter_col_dd.value
    ser = dfc[col]
    if len(filter_vals_ms.value) == 0 and not include_empty_ck.value:
        return dfc

    if is_numeric_series(ser):
        ser_num = to_numeric_safe(ser)
        mask_val = ser_num.isin(list(filter_vals_ms.value))
    else:
        ser_str = ser.fillna("NaN").astype(str)
        chosen = set(filter_vals_ms.value)
        mask_val = ser_str.isin(chosen)

    if include_empty_ck.value:
        mask_val = mask_val | ser.isna()

    return dfc[mask_val]

def plot_columns_for_df(dfc: pd.DataFrame, columns, show_quartiles=False):
    if dfc.empty:
        print("※ 該当データがありません（条件を緩めてください）。")
        return

    fit_lo, fit_hi = fitness_rs.value
    thresholds = compute_thresholds(fit_lo, fit_hi)
    x_right = fit_lo  # 右端=選択したFitness範囲の下限

    print(f"対象件数: {len(dfc)}｜Fitness範囲: [{fit_lo:,.0f}, {fit_hi:,.0f})｜閾値数: {len(thresholds)}")

    for col in columns:
        stats = {"min": [], "q1": [], "median": [], "q3": [], "max": [], "mean": []}
        for th in thresholds:
            vals = dfc.loc[dfc["Fitness"].astype(float) <= th, col]
            vals = to_numeric_safe(vals).dropna()
            if len(vals) > 0:
                stats["min"].append(vals.min())
                stats["q1"].append(vals.quantile(0.25))
                stats["median"].append(vals.median())
                stats["q3"].append(vals.quantile(0.75))
                stats["max"].append(vals.max())
                stats["mean"].append(vals.mean())
            else:
                stats["min"].append(np.nan)
                stats["q1"].append(np.nan)
                stats["median"].append(np.nan)
                stats["q3"].append(np.nan)
                stats["max"].append(np.nan)
                stats["mean"].append(np.nan)

        plt.figure(figsize=(10, 5))
        plt.plot(thresholds, stats["min"], label="最小値")
        if show_quartiles:
            plt.plot(thresholds, stats["q1"], label="第1四分位数")
        plt.plot(thresholds, stats["median"], label="中央値")
        if show_quartiles:
            plt.plot(thresholds, stats["q3"], label="第3四分位数")
        plt.plot(thresholds, stats["max"], label="最大値")
        plt.plot(thresholds, stats["mean"], label="平均値")
        plt.xlabel("Fitness閾値")
        plt.ylabel(col)
        plt.title(f"Fitness閾値ごとの {col} 統計値 (cluster={cluster_dd.value})")
        plt.gca().invert_xaxis()
        plt.xlim(right=x_right)
        plt.legend()
        plt.tight_layout()
        plt.show()

def on_click_draw(_):
    with out:
        clear_output(wait=True)
        # ベース（cluster=すべて対応）
        dfc = get_base_df(cluster_dd.value)
        # フィルタ適用
        dfc = apply_filter(dfc)
        # 描画列
        if plot_mode_tb.value == '全列':
            cols = VALUE_COLS
        else:
            cols = [plot_col_dd.value]
        # 描画
        plot_columns_for_df(dfc, cols, show_quartiles_ck.value)

draw_btn.on_click(on_click_draw)

# UI 配置
ui = widgets.VBox([
    widgets.HBox([cluster_dd]),
    widgets.HBox([fitness_rs]),
    widgets.HTML("<b>絞り込み設定</b>"),
    widgets.HBox([filter_enable_tb]),
    widgets.HBox([filter_col_dd, filter_vals_ms, include_empty_ck]),
    widgets.HTML("<b>描画設定</b>"),
    widgets.HBox([plot_mode_tb, plot_col_dd, show_quartiles_ck, draw_btn]),
])

display(ui, out)

print("使い方：\n"
      "1) cluster を選択（「(すべて)」で全件）\n"
      "2) Fitness範囲を指定\n"
      "3) フィルタは『絞り込みしない / 絞り込みする』で切替\n"
      "   - 絞り込みする：絞込列・絞込値（複数可）・欠損を含める を設定\n"
      "4) 『描画』を押す\n")
